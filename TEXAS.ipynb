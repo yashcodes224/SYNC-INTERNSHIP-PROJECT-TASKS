{
 "cells": [
  {
   "cell_type": "code",
   "execution_count": 1,
   "id": "c878e12d",
   "metadata": {},
   "outputs": [
    {
     "name": "stdout",
     "output_type": "stream",
     "text": [
      "Requirement already satisfied: chatterbot in c:\\users\\asus\\anaconda03\\lib\\site-packages (1.0.4)\n",
      "Requirement already satisfied: pint>=0.8.1 in c:\\users\\asus\\anaconda03\\lib\\site-packages (from chatterbot) (0.20.1)\n",
      "Requirement already satisfied: nltk<4.0,>=3.2 in c:\\users\\asus\\anaconda03\\lib\\site-packages (from chatterbot) (3.7)\n",
      "Requirement already satisfied: sqlalchemy<1.3,>=1.2 in c:\\users\\asus\\anaconda03\\lib\\site-packages (from chatterbot) (1.2.19)\n",
      "Requirement already satisfied: chatterbot-corpus<1.3,>=1.2 in c:\\users\\asus\\anaconda03\\lib\\site-packages (from chatterbot) (1.2.0)\n",
      "Requirement already satisfied: pymongo<4.0,>=3.3 in c:\\users\\asus\\anaconda03\\lib\\site-packages (from chatterbot) (3.13.0)\n",
      "Requirement already satisfied: mathparse<0.2,>=0.1 in c:\\users\\asus\\anaconda03\\lib\\site-packages (from chatterbot) (0.1.2)\n",
      "Requirement already satisfied: python-dateutil<2.8,>=2.7 in c:\\users\\asus\\anaconda03\\lib\\site-packages (from chatterbot) (2.7.5)\n",
      "Requirement already satisfied: PyYAML<4.0,>=3.12 in c:\\users\\asus\\anaconda03\\lib\\site-packages (from chatterbot-corpus<1.3,>=1.2->chatterbot) (3.13)\n",
      "Requirement already satisfied: regex>=2021.8.3 in c:\\users\\asus\\anaconda03\\lib\\site-packages (from nltk<4.0,>=3.2->chatterbot) (2022.3.15)\n",
      "Requirement already satisfied: tqdm in c:\\users\\asus\\anaconda03\\lib\\site-packages (from nltk<4.0,>=3.2->chatterbot) (4.64.0)\n",
      "Requirement already satisfied: click in c:\\users\\asus\\anaconda03\\lib\\site-packages (from nltk<4.0,>=3.2->chatterbot) (8.0.4)\n",
      "Requirement already satisfied: joblib in c:\\users\\asus\\anaconda03\\lib\\site-packages (from nltk<4.0,>=3.2->chatterbot) (1.1.0)\n",
      "Requirement already satisfied: six>=1.5 in c:\\users\\asus\\anaconda03\\lib\\site-packages (from python-dateutil<2.8,>=2.7->chatterbot) (1.16.0)\n",
      "Requirement already satisfied: colorama in c:\\users\\asus\\anaconda03\\lib\\site-packages (from click->nltk<4.0,>=3.2->chatterbot) (0.4.4)\n",
      "Requirement already satisfied: chatterbot-corpus in c:\\users\\asus\\anaconda03\\lib\\site-packages (1.2.0)\n",
      "Requirement already satisfied: PyYAML<4.0,>=3.12 in c:\\users\\asus\\anaconda03\\lib\\site-packages (from chatterbot-corpus) (3.13)\n"
     ]
    }
   ],
   "source": [
    "!pip install chatterbot\n",
    "!pip install chatterbot-corpus"
   ]
  },
  {
   "cell_type": "code",
   "execution_count": 2,
   "id": "ce1f0ad6",
   "metadata": {},
   "outputs": [],
   "source": [
    "from chatterbot import ChatBot\n",
    "from chatterbot.trainers import ListTrainer  \n",
    "from chatterbot.trainers import ChatterBotCorpusTrainer  "
   ]
  },
  {
   "cell_type": "markdown",
   "id": "da6cc636",
   "metadata": {},
   "source": [
    "**CREATING A CHATBOT**\n"
   ]
  },
  {
   "cell_type": "code",
   "execution_count": 3,
   "id": "b834c545",
   "metadata": {},
   "outputs": [
    {
     "name": "stderr",
     "output_type": "stream",
     "text": [
      "[nltk_data] Downloading package averaged_perceptron_tagger to\n",
      "[nltk_data]     C:\\Users\\ASUS\\AppData\\Roaming\\nltk_data...\n",
      "[nltk_data]   Package averaged_perceptron_tagger is already up-to-\n",
      "[nltk_data]       date!\n",
      "[nltk_data] Downloading package punkt to\n",
      "[nltk_data]     C:\\Users\\ASUS\\AppData\\Roaming\\nltk_data...\n",
      "[nltk_data]   Package punkt is already up-to-date!\n",
      "[nltk_data] Downloading package stopwords to\n",
      "[nltk_data]     C:\\Users\\ASUS\\AppData\\Roaming\\nltk_data...\n",
      "[nltk_data]   Package stopwords is already up-to-date!\n"
     ]
    }
   ],
   "source": [
    "myBot = ChatBot('TEXAS')  \n"
   ]
  },
  {
   "cell_type": "markdown",
   "id": "c3be66f0",
   "metadata": {},
   "source": [
    "**Create object of ChatBot class with Storage Adapter**"
   ]
  },
  {
   "cell_type": "code",
   "execution_count": 4,
   "id": "bf367ede",
   "metadata": {},
   "outputs": [
    {
     "name": "stderr",
     "output_type": "stream",
     "text": [
      "[nltk_data] Downloading package averaged_perceptron_tagger to\n",
      "[nltk_data]     C:\\Users\\ASUS\\AppData\\Roaming\\nltk_data...\n",
      "[nltk_data]   Package averaged_perceptron_tagger is already up-to-\n",
      "[nltk_data]       date!\n",
      "[nltk_data] Downloading package punkt to\n",
      "[nltk_data]     C:\\Users\\ASUS\\AppData\\Roaming\\nltk_data...\n",
      "[nltk_data]   Package punkt is already up-to-date!\n",
      "[nltk_data] Downloading package stopwords to\n",
      "[nltk_data]     C:\\Users\\ASUS\\AppData\\Roaming\\nltk_data...\n",
      "[nltk_data]   Package stopwords is already up-to-date!\n"
     ]
    }
   ],
   "source": [
    "myBot = ChatBot(\n",
    "    'TEXAS',\n",
    "    storage_adapter='chatterbot.storage.SQLStorageAdapter',\n",
    "    database_uri='sqlite:///database.sqlite3'\n",
    ")"
   ]
  },
  {
   "cell_type": "markdown",
   "id": "63922bbf",
   "metadata": {},
   "source": [
    "**Create object of ChatBot class with Logic Adapter**"
   ]
  },
  {
   "cell_type": "code",
   "execution_count": 5,
   "id": "6b3413fe",
   "metadata": {},
   "outputs": [
    {
     "name": "stderr",
     "output_type": "stream",
     "text": [
      "[nltk_data] Downloading package averaged_perceptron_tagger to\n",
      "[nltk_data]     C:\\Users\\ASUS\\AppData\\Roaming\\nltk_data...\n",
      "[nltk_data]   Package averaged_perceptron_tagger is already up-to-\n",
      "[nltk_data]       date!\n",
      "[nltk_data] Downloading package punkt to\n",
      "[nltk_data]     C:\\Users\\ASUS\\AppData\\Roaming\\nltk_data...\n",
      "[nltk_data]   Package punkt is already up-to-date!\n",
      "[nltk_data] Downloading package stopwords to\n",
      "[nltk_data]     C:\\Users\\ASUS\\AppData\\Roaming\\nltk_data...\n",
      "[nltk_data]   Package stopwords is already up-to-date!\n"
     ]
    }
   ],
   "source": [
    "myBot = ChatBot(\n",
    "    'TEXAS',  \n",
    "    logic_adapters=[\n",
    "        'chatterbot.logic.BestMatch',\n",
    "        'chatterbot.logic.TimeLogicAdapter'],\n",
    ")"
   ]
  },
  {
   "cell_type": "markdown",
   "id": "d92f8730",
   "metadata": {},
   "source": [
    "**Import ListTrainer**"
   ]
  },
  {
   "cell_type": "code",
   "execution_count": 6,
   "id": "1e333906",
   "metadata": {},
   "outputs": [
    {
     "name": "stdout",
     "output_type": "stream",
     "text": [
      "List Trainer: [####################] 100%\n"
     ]
    }
   ],
   "source": [
    "from chatterbot.trainers import ListTrainer\n",
    "\n",
    "trainer = ListTrainer(myBot)\n",
    "\n",
    "trainer.train([\n",
    "'Hi',\n",
    "'Hello',\n",
    "'Who are you?',    \n",
    "'I am TEXAS, Your helping bot',\n",
    "'Which department is this?',    \n",
    "'This is the department of AI&ML',\n",
    "'Who is the H.O.D of AI&ML DEpartment',\n",
    "'Mr. Vinish Kumar is the H.O.D of AI&ML Department',   \n",
    "'I have a complaint.',\n",
    "'Please elaborate, your concern',\n",
    "'How long a lecture goes on?',\n",
    "'A lecture is being delivered around 50 minutes',\n",
    "'Okay Thanks',\n",
    "'No Problem! Have a Good Day!'\n",
    "])"
   ]
  },
  {
   "cell_type": "markdown",
   "id": "93400a6b",
   "metadata": {},
   "source": [
    " **Get a response to the input text 'I have a complaint.'**"
   ]
  },
  {
   "cell_type": "code",
   "execution_count": 7,
   "id": "722d7653",
   "metadata": {},
   "outputs": [
    {
     "name": "stdout",
     "output_type": "stream",
     "text": [
      "Bot Response: Please elaborate, your concern\n"
     ]
    }
   ],
   "source": [
    "response = myBot.get_response('I have a complaint.')\n",
    "\n",
    "print(\"Bot Response:\", response)"
   ]
  },
  {
   "cell_type": "markdown",
   "id": "c35173fb",
   "metadata": {},
   "source": [
    "**Get a response to the input text 'Who are you?'**"
   ]
  },
  {
   "cell_type": "code",
   "execution_count": 8,
   "id": "2b337002",
   "metadata": {},
   "outputs": [
    {
     "name": "stdout",
     "output_type": "stream",
     "text": [
      "Bot Response: I am TEXAS, Your helping bot\n"
     ]
    }
   ],
   "source": [
    "response = myBot.get_response('Who are you?')\n",
    "\n",
    "print(\"Bot Response:\", response)"
   ]
  },
  {
   "cell_type": "markdown",
   "id": "7a2fe2e1",
   "metadata": {},
   "source": [
    "**Get a response to the input text 'Which department is this?'**"
   ]
  },
  {
   "cell_type": "code",
   "execution_count": 9,
   "id": "7669362d",
   "metadata": {},
   "outputs": [
    {
     "name": "stdout",
     "output_type": "stream",
     "text": [
      "Bot Response: This is the department of AI&ML\n"
     ]
    }
   ],
   "source": [
    "response = myBot.get_response('Which department is this?')\n",
    "\n",
    "print(\"Bot Response:\", response)"
   ]
  },
  {
   "cell_type": "markdown",
   "id": "960a7fa9",
   "metadata": {},
   "source": [
    "**Get a response to the input text 'How long a lecture goes on ?'**"
   ]
  },
  {
   "cell_type": "code",
   "execution_count": 10,
   "id": "d50ea19f",
   "metadata": {},
   "outputs": [
    {
     "name": "stdout",
     "output_type": "stream",
     "text": [
      "Bot Response: A lecture is being delivered around 50 minutes\n"
     ]
    }
   ],
   "source": [
    "response = myBot.get_response('How long a lecture goes on ?')\n",
    "\n",
    "print(\"Bot Response:\", response)"
   ]
  },
  {
   "cell_type": "markdown",
   "id": "7b80bd12",
   "metadata": {},
   "source": [
    "**Get a response to the input text 'Okay Thanks'**"
   ]
  },
  {
   "cell_type": "code",
   "execution_count": 11,
   "id": "ca3b1ee0",
   "metadata": {},
   "outputs": [
    {
     "name": "stdout",
     "output_type": "stream",
     "text": [
      "Bot Response: No Problem! Have a Good Day!\n"
     ]
    }
   ],
   "source": [
    "response = myBot.get_response('Okay Thanks')\n",
    "\n",
    "print(\"Bot Response:\", response)"
   ]
  },
  {
   "cell_type": "code",
   "execution_count": null,
   "id": "708b887d",
   "metadata": {},
   "outputs": [],
   "source": []
  },
  {
   "cell_type": "code",
   "execution_count": null,
   "id": "314c5c6d",
   "metadata": {},
   "outputs": [],
   "source": []
  }
 ],
 "metadata": {
  "kernelspec": {
   "display_name": "Python 3 (ipykernel)",
   "language": "python",
   "name": "python3"
  },
  "language_info": {
   "codemirror_mode": {
    "name": "ipython",
    "version": 3
   },
   "file_extension": ".py",
   "mimetype": "text/x-python",
   "name": "python",
   "nbconvert_exporter": "python",
   "pygments_lexer": "ipython3",
   "version": "3.9.12"
  }
 },
 "nbformat": 4,
 "nbformat_minor": 5
}
